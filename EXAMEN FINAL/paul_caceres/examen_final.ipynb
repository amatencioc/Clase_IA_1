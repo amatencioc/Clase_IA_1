{
 "cells": [
  {
   "cell_type": "code",
   "execution_count": 15,
   "id": "dcdc1276",
   "metadata": {},
   "outputs": [],
   "source": [
    "##importar pandas\n",
    "import pandas as pd\n",
    "##abrir archivo\n",
    "raw_csv_data = pd.read_csv(\"Absenteeism-data.csv\")"
   ]
  },
  {
   "cell_type": "code",
   "execution_count": 16,
   "id": "a8d23b3e",
   "metadata": {},
   "outputs": [],
   "source": [
    "df = raw_csv_data.copy()\n",
    "#Elimina la columna ‘ID’.\n",
    "df = df.drop(['ID'], axis = 1)\n"
   ]
  },
  {
   "cell_type": "code",
   "execution_count": 17,
   "id": "7c4864c3",
   "metadata": {},
   "outputs": [],
   "source": [
    "reason_columns = pd.get_dummies(df['Reason for Absence'], drop_first=True)\n",
    "#    Divide las razones de ausencia en múltiples variables dummym(dummy variables) y luego agrúpalas de la siguiente manera:\n",
    "#g1\n",
    "reason_type_1 = reason_columns.loc[:, 1:14].max(axis=1)\n",
    "#g2\n",
    "reason_type_2 = reason_columns.loc[:, 15:17].max(axis=1)\n",
    "#g3\n",
    "reason_type_3 = reason_columns.loc[:, 18:21].max(axis=1)\n",
    "#g4\n",
    "reason_type_4 = reason_columns.loc[:, 22:].max(axis=1)"
   ]
  },
  {
   "cell_type": "code",
   "execution_count": 18,
   "id": "5d3079a4",
   "metadata": {},
   "outputs": [],
   "source": [
    "#eliminar también la columna ‘Reason for Absence’.\n",
    "df = df.drop(['Reason for Absence'], axis=1)"
   ]
  },
  {
   "cell_type": "code",
   "execution_count": 19,
   "id": "faaddc4a",
   "metadata": {},
   "outputs": [],
   "source": [
    "# Se concatenan las 4 nuevas columnas de grupos de razones al DataFrame.\n",
    "df = pd.concat([df, reason_type_1, reason_type_2, reason_type_3, reason_type_4], axis=1)\n",
    "\n",
    "# Se renombran las columnas para que sean más descriptivas.\n",
    "column_names = ['Date', 'Transportation Expense', 'Distance to Work', 'Age',\n",
    "                'Daily Work Load Average', 'Body Mass Index', 'Education',\n",
    "                'Children', 'Pets', 'Absenteeism Time in Hours', 'Reason_1', 'Reason_2', 'Reason_3', 'Reason_4']\n",
    "df.columns = column_names\n",
    "\n",
    "# Se reordenan las columnas para poner las nuevas razones al principio.\n",
    "column_names_reordered = ['Reason_1', 'Reason_2', 'Reason_3', 'Reason_4', \n",
    "                          'Date', 'Transportation Expense', 'Distance to Work', 'Age',\n",
    "                          'Daily Work Load Average', 'Body Mass Index', 'Education',\n",
    "                          'Children', 'Pets', 'Absenteeism Time in Hours']\n",
    "\n",
    "df = df[column_names_reordered]\n",
    "df_reason_mod = df.copy()\n"
   ]
  },
  {
   "cell_type": "code",
   "execution_count": 20,
   "id": "4a4c6e06",
   "metadata": {},
   "outputs": [],
   "source": [
    "# --- 3. Procesamiento de la columna 'Date' ---\n",
    "# Se convierte la columna 'Date' a formato datetime, especificando el formato correcto.\n",
    "df_reason_mod['Date'] = pd.to_datetime(df_reason_mod['Date'], format ='%d/%m/%Y')\n",
    "\n",
    "# Se extrae el mes y el día de la semana de forma eficiente usando el accesor '.dt'.\n",
    "# Esto es mucho más rápido que usar un bucle 'for'.\n",
    "df_reason_mod['Month Value'] = df_reason_mod['Date'].dt.month\n",
    "df_reason_mod['Day of the Week'] = df_reason_mod['Date'].dt.weekday\n",
    "\n",
    "# Se elimina la columna 'Date' original.\n",
    "df_reason_mod = df_reason_mod.drop(['Date'], axis=1)\n",
    "# Se reordenan las columnas para ubicar las nuevas columnas de fecha en su lugar.\n",
    "column_names_upd = ['Reason_1', 'Reason_2', 'Reason_3', 'Reason_4', 'Month Value', 'Day of the Week',\n",
    "                    'Transportation Expense', 'Distance to Work', 'Age',\n",
    "                    'Daily Work Load Average', 'Body Mass Index', 'Education', 'Children',\n",
    "                    'Pets', 'Absenteeism Time in Hours']\n",
    "df_reason_mod = df_reason_mod[column_names_upd]\n",
    "\n",
    "df_reason_date_mod = df_reason_mod.copy()"
   ]
  },
  {
   "cell_type": "code",
   "execution_count": 26,
   "id": "95c772ab",
   "metadata": {},
   "outputs": [],
   "source": [
    "# --- 4. Procesamiento de la columna 'Education' ---\n",
    "df_reason_date_mod['Education'] = df_reason_date_mod['Education'].map({0: 1, 1: 0, 2: 0, 3: 0, 4: 0})\n",
    "# --- 5. Checkpoint Final ---\n",
    "# Se crea la copia final del DataFrame limpio.\n",
    "df_cleaned = df_reason_date_mod.copy()"
   ]
  },
  {
   "cell_type": "code",
   "execution_count": null,
   "id": "a58ff315",
   "metadata": {},
   "outputs": [
    {
     "name": "stdout",
     "output_type": "stream",
     "text": [
      "DataFrame final 'df_cleaned':\n",
      "   Reason_1  Reason_2  Reason_3  Reason_4  Month Value  Day of the Week  \\\n",
      "0     False     False     False      True            7                1   \n",
      "1     False     False     False     False            7                1   \n",
      "2     False     False     False      True            7                2   \n",
      "3      True     False     False     False            7                3   \n",
      "4     False     False     False      True            7                3   \n",
      "5     False     False     False      True            7                4   \n",
      "6     False     False     False      True            7                4   \n",
      "7     False     False     False      True            7                4   \n",
      "8     False     False      True     False            7                0   \n",
      "9     False     False     False      True            7                0   \n",
      "\n",
      "   Transportation Expense  Distance to Work  Age  Daily Work Load Average  \\\n",
      "0                     289                36   33                  239.554   \n",
      "1                     118                13   50                  239.554   \n",
      "2                     179                51   38                  239.554   \n",
      "3                     279                 5   39                  239.554   \n",
      "4                     289                36   33                  239.554   \n",
      "5                     179                51   38                  239.554   \n",
      "6                     361                52   28                  239.554   \n",
      "7                     260                50   36                  239.554   \n",
      "8                     155                12   34                  239.554   \n",
      "9                     235                11   37                  239.554   \n",
      "\n",
      "   Body Mass Index  Education  Children  Pets  Absenteeism Time in Hours  \n",
      "0               30        NaN         2     1                          4  \n",
      "1               31        NaN         1     0                          0  \n",
      "2               31        NaN         0     0                          2  \n",
      "3               24        NaN         2     0                          4  \n",
      "4               30        NaN         2     1                          2  \n",
      "5               31        NaN         0     0                          2  \n",
      "6               27        NaN         1     4                          8  \n",
      "7               23        NaN         4     0                          4  \n",
      "8               25        NaN         2     0                         40  \n",
      "9               29        1.0         1     1                          8  \n"
     ]
    }
   ],
   "source": [
    "# Se muestran las primeras 10 filas para verificar el resultado.\n",
    "print(\"DataFrame final 'df_cleaned':\")\n",
    "print(df_cleaned.head(10))\n"
   ]
  }
 ],
 "metadata": {
  "kernelspec": {
   "display_name": "menv",
   "language": "python",
   "name": "python3"
  },
  "language_info": {
   "codemirror_mode": {
    "name": "ipython",
    "version": 3
   },
   "file_extension": ".py",
   "mimetype": "text/x-python",
   "name": "python",
   "nbconvert_exporter": "python",
   "pygments_lexer": "ipython3",
   "version": "3.11.0"
  }
 },
 "nbformat": 4,
 "nbformat_minor": 5
}
