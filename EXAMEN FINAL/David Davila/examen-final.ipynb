{
 "cells": [
  {
   "cell_type": "code",
   "execution_count": 1,
   "id": "071ade69",
   "metadata": {},
   "outputs": [
    {
     "name": "stdout",
     "output_type": "stream",
     "text": [
      "Completado\n",
      "Archivo generado: df-final-report.csv\n"
     ]
    }
   ],
   "source": [
    "import pandas as pd\n",
    "import numpy as np\n",
    "from pathlib import Path\n",
    "\n",
    "IN_PATH  = Path(\"Absenteeism-data.csv\")\n",
    "OUT_PATH = Path(\"df-final-report.csv\")\n",
    "\n",
    "df = pd.read_csv(IN_PATH)\n",
    "\n",
    "id_cols = [c for c in df.columns if c.strip().lower() == \"id\"]\n",
    "if id_cols:\n",
    "    df = df.drop(columns=id_cols)\n",
    "\n",
    "reason_col = None\n",
    "for c in df.columns:\n",
    "    if \"reason\" in c.lower():\n",
    "        reason_col = c\n",
    "        break\n",
    "if reason_col is None:\n",
    "    raise ValueError(\"No se encontró la columna 'Reason for Absence'.\")\n",
    "\n",
    "categories = list(range(1, 29))\n",
    "reason_cat = pd.Categorical(df[reason_col], categories=categories, ordered=False)\n",
    "reason_dummies = pd.get_dummies(reason_cat, prefix=\"Reason\", prefix_sep=\"_\", dummy_na=False)\n",
    "\n",
    "def cols_for_range(start, end):\n",
    "    return [f\"Reason_{i}\" for i in range(start, end + 1)]\n",
    "\n",
    "grp1 = reason_dummies[cols_for_range(1, 14)].max(axis=1).astype(int)\n",
    "grp2 = reason_dummies[cols_for_range(15, 17)].max(axis=1).astype(int)\n",
    "grp3 = reason_dummies[cols_for_range(18, 21)].max(axis=1).astype(int)\n",
    "grp4 = reason_dummies[cols_for_range(22, 28)].max(axis=1).astype(int)\n",
    "\n",
    "df = df.assign(\n",
    "    Reason_1=grp1,\n",
    "    Reason_2=grp2,\n",
    "    Reason_3=grp3,\n",
    "    Reason_4=grp4\n",
    ")\n",
    "\n",
    "df = df.drop(columns=[reason_col])\n",
    "\n",
    "date_col = None\n",
    "for c in df.columns:\n",
    "    if c.strip().lower() == \"date\" or (\"date\" in c.lower()):\n",
    "        date_col = c\n",
    "        break\n",
    "if date_col is None:\n",
    "    raise ValueError(\"No se encontró la columna 'Date'.\")\n",
    "\n",
    "dt = pd.to_datetime(df[date_col], errors=\"coerce\", dayfirst=True)\n",
    "df[\"Month\"] = dt.dt.month.astype(\"Int64\")\n",
    "df[\"Day of the Week\"] = dt.dt.weekday.astype(\"Int64\")\n",
    "df = df.drop(columns=[date_col])\n",
    "\n",
    "edu_col = None\n",
    "for c in df.columns:\n",
    "    if \"education\" in c.lower():\n",
    "        edu_col = c\n",
    "        break\n",
    "if edu_col is None:\n",
    "    raise ValueError(\"No se encontró la columna 'Education'.\")\n",
    "\n",
    "edu_unique = pd.Series(df[edu_col].unique()).dropna().astype(float).astype(int).tolist()\n",
    "\n",
    "def map_education(val):\n",
    "    if pd.isna(val):\n",
    "        return np.nan\n",
    "    x = int(val)\n",
    "    if set(edu_unique).issubset({0, 1}):\n",
    "        return 1 if x == 0 else 0\n",
    "    else:\n",
    "        return 0 if x == 1 else 1\n",
    "\n",
    "df[edu_col] = df[edu_col].map(map_education).astype(\"Int64\")\n",
    "\n",
    "df.to_csv(OUT_PATH, index=False)\n",
    "\n",
    "print(\"Completado\")\n",
    "print(f\"Archivo generado: {OUT_PATH}\")"
   ]
  },
  {
   "cell_type": "code",
   "execution_count": 3,
   "id": "83cc15f4",
   "metadata": {},
   "outputs": [
    {
     "name": "stdout",
     "output_type": "stream",
     "text": [
      "   Transportation Expense  Distance to Work  Age  Daily Work Load Average  \\\n",
      "0                     289                36   33                  239.554   \n",
      "1                     118                13   50                  239.554   \n",
      "2                     179                51   38                  239.554   \n",
      "3                     279                 5   39                  239.554   \n",
      "4                     289                36   33                  239.554   \n",
      "\n",
      "   Body Mass Index  Education  Children  Pets  Absenteeism Time in Hours  \\\n",
      "0               30          0         2     1                          4   \n",
      "1               31          0         1     0                          0   \n",
      "2               31          0         0     0                          2   \n",
      "3               24          0         2     0                          4   \n",
      "4               30          0         2     1                          2   \n",
      "\n",
      "   Reason_1  Reason_2  Reason_3  Reason_4  Month  Day of the Week  \n",
      "0         0         0         0         1      7                1  \n",
      "1         0         0         0         0      7                1  \n",
      "2         0         0         0         1      7                2  \n",
      "3         1         0         0         0      7                3  \n",
      "4         0         0         0         1      7                3  \n"
     ]
    }
   ],
   "source": [
    "import pandas as pd\n",
    "\n",
    "df = pd.read_csv(\"df-final-report.csv\")\n",
    "\n",
    "print(df.head())"
   ]
  },
  {
   "cell_type": "code",
   "execution_count": 4,
   "id": "93bbe34d",
   "metadata": {},
   "outputs": [
    {
     "name": "stdout",
     "output_type": "stream",
     "text": [
      "Education\n",
      "0    583\n",
      "1    117\n",
      "Name: count, dtype: int64\n"
     ]
    }
   ],
   "source": [
    "print(df['Education'].value_counts()) "
   ]
  },
  {
   "cell_type": "code",
   "execution_count": 5,
   "id": "e14a868e",
   "metadata": {},
   "outputs": [
    {
     "name": "stdout",
     "output_type": "stream",
     "text": [
      "Reason_1    175\n",
      "Reason_2      6\n",
      "Reason_3     63\n",
      "Reason_4    418\n",
      "dtype: int64\n"
     ]
    }
   ],
   "source": [
    "print(df[['Reason_1','Reason_2','Reason_3','Reason_4']].sum())"
   ]
  },
  {
   "cell_type": "code",
   "execution_count": 6,
   "id": "214c3e6d",
   "metadata": {},
   "outputs": [
    {
     "name": "stdout",
     "output_type": "stream",
     "text": [
      "     Month  Day of the Week\n",
      "114      1                0\n",
      "115      1                1\n",
      "113      1                2\n",
      "118      1                3\n",
      "120      1                4\n",
      "..     ...              ...\n",
      "339     12                0\n",
      "98      12                1\n",
      "100     12                2\n",
      "102     12                3\n",
      "103     12                4\n",
      "\n",
      "[63 rows x 2 columns]\n"
     ]
    }
   ],
   "source": [
    "print(df[['Month','Day of the Week']].drop_duplicates().sort_values(['Month','Day of the Week']))"
   ]
  }
 ],
 "metadata": {
  "kernelspec": {
   "display_name": "Python 3",
   "language": "python",
   "name": "python3"
  },
  "language_info": {
   "codemirror_mode": {
    "name": "ipython",
    "version": 3
   },
   "file_extension": ".py",
   "mimetype": "text/x-python",
   "name": "python",
   "nbconvert_exporter": "python",
   "pygments_lexer": "ipython3",
   "version": "3.12.10"
  }
 },
 "nbformat": 4,
 "nbformat_minor": 5
}
